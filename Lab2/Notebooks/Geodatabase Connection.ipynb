{
 "cells": [
  {
   "cell_type": "markdown",
   "metadata": {},
   "source": [
    "# Moving data into cloud geodatabase\n",
    "\n",
    "This notebook simply moves the data added to the file geodatabase from the previous two notebooks to the enterprise geodatabase for real-time viewing."
   ]
  },
  {
   "cell_type": "code",
   "execution_count": 1,
   "metadata": {},
   "outputs": [],
   "source": [
    "# Import necessary libraries\n",
    "from datetime import date\n",
    "import os\n",
    "import arcpy\n",
    "\n",
    "# Establish variable for the directory\n",
    "directory = 'C:\\\\Users\\\\15612\\Documents\\\\Arc II\\\\Lab 2'\n",
    "\n",
    "# Establish variables for current day\n",
    "today = str(date.today())\n",
    "\n",
    "today_no_dash = today.replace('-','')\n",
    "\n",
    "# Establish variables for relevant file GDB and enterprise GDB\n",
    "gdb_path = r'C:\\Users\\15612\\Documents\\Arc II\\Lab 2\\ArcII Lab 2.gdb'\n",
    "sde_path = r'C:\\Users\\15612\\Documents\\ArcGIS\\Projects\\ArcII Lab 2\\PostgreSQL-35-lab2(postgres).sde'"
   ]
  },
  {
   "cell_type": "code",
   "execution_count": 2,
   "metadata": {},
   "outputs": [
    {
     "data": {
      "text/html": [
       "<div class='gpresult'><h2>Messages</h2><div id='messages' data-messages='[\"Start Time: Thursday, March 14, 2024 10:18:12 PM\",\"WARNING 000258: Output C:\\\\Users\\\\15612\\\\Documents\\\\ArcGIS\\\\Projects\\\\ArcII Lab 2\\\\PostgreSQL-35-lab2(postgres).sde already exists\",\"Succeeded at Thursday, March 14, 2024 10:18:21 PM (Elapsed Time: 9.73 seconds)\"]' data-show='true'><div id = 'default' /></div></div>"
      ],
      "text/plain": [
       "<Result 'C:\\\\Users\\\\15612\\\\Documents\\\\ArcGIS\\\\Projects\\\\ArcII Lab 2\\\\PostgreSQL-35-lab2(postgres).sde'>"
      ]
     },
     "execution_count": 2,
     "metadata": {},
     "output_type": "execute_result"
    }
   ],
   "source": [
    "# Establish variables for GDB connection\n",
    "folder = r'C:\\Users\\15612\\Documents\\ArcGIS\\Projects\\ArcII Lab 2'\n",
    "out_name = 'PostgreSQL-35-lab2(postgres).sde'\n",
    "db_platform = 'POSTGRESQL'\n",
    "instance = '35.184.2.25'\n",
    "acc_auth = 'DATABASE_AUTH'\n",
    "un = 'postgres'\n",
    "pw = 'ATLAisagreatshow2020'\n",
    "save_user_pass = 'SAVE_USERNAME'\n",
    "db = 'lab2'\n",
    "\n",
    "# Connect to GDB\n",
    "arcpy.management.CreateDatabaseConnection(\n",
    "    out_folder_path = folder,\n",
    "    out_name = out_name,\n",
    "    database_platform = db_platform,\n",
    "    instance = instance,\n",
    "    account_authentication = acc_auth,\n",
    "    username = un,\n",
    "    password = pw,\n",
    "    save_user_pass = save_user_pass,\n",
    "    database = db\n",
    ")"
   ]
  },
  {
   "cell_type": "code",
   "execution_count": 4,
   "metadata": {},
   "outputs": [
    {
     "data": {
      "text/html": [
       "<div class='gpresult'><h2>Messages</h2><div id='messages' data-messages='[\"Start Time: Thursday, March 14, 2024 10:23:29 PM\",\"Failed to convert: C:\\\\Users\\\\15612\\\\Documents\\\\Arc II\\\\Lab 2\\\\ArcII Lab 2.gdb\\\\Minnesota. ERROR 000210: Cannot create output C:\\\\Users\\\\15612\\\\Documents\\\\ArcGIS\\\\Projects\\\\ArcII Lab 2\\\\PostgreSQL-35-lab2(postgres).sde\\\\lab2.postgres.Minnesota\\nFailed to execute (CopyFeatures).\\n\",\"Failed to convert: C:\\\\Users\\\\15612\\\\Documents\\\\Arc II\\\\Lab 2\\\\ArcII Lab 2.gdb\\\\Cities. ERROR 000210: Cannot create output C:\\\\Users\\\\15612\\\\Documents\\\\ArcGIS\\\\Projects\\\\ArcII Lab 2\\\\PostgreSQL-35-lab2(postgres).sde\\\\lab2.postgres.Cities\\nFailed to execute (CopyFeatures).\\n\",\"Failed to convert: C:\\\\Users\\\\15612\\\\Documents\\\\Arc II\\\\Lab 2\\\\ArcII Lab 2.gdb\\\\Land_Cover_polygons. ERROR 000210: Cannot create output C:\\\\Users\\\\15612\\\\Documents\\\\ArcGIS\\\\Projects\\\\ArcII Lab 2\\\\PostgreSQL-35-lab2(postgres).sde\\\\lab2.postgres.Land_Cover_polygons\\nFailed to execute (CopyFeatures).\\n\",\"Failed to convert: C:\\\\Users\\\\15612\\\\Documents\\\\Arc II\\\\Lab 2\\\\ArcII Lab 2.gdb\\\\MN_DEM_pts. ERROR 000210: Cannot create output C:\\\\Users\\\\15612\\\\Documents\\\\ArcGIS\\\\Projects\\\\ArcII Lab 2\\\\PostgreSQL-35-lab2(postgres).sde\\\\lab2.postgres.MN_DEM_pts\\nFailed to execute (CopyFeatures).\\n\",\"Failed to convert: C:\\\\Users\\\\15612\\\\Documents\\\\Arc II\\\\Lab 2\\\\ArcII Lab 2.gdb\\\\BMSB_sightings_sj. ERROR 000210: Cannot create output C:\\\\Users\\\\15612\\\\Documents\\\\ArcGIS\\\\Projects\\\\ArcII Lab 2\\\\PostgreSQL-35-lab2(postgres).sde\\\\lab2.postgres.BMSB_sightings_sj\\nFailed to execute (CopyFeatures).\\n\",\"Failed to convert: C:\\\\Users\\\\15612\\\\Documents\\\\Arc II\\\\Lab 2\\\\ArcII Lab 2.gdb\\\\mn_stations_20240314. ERROR 000210: Cannot create output C:\\\\Users\\\\15612\\\\Documents\\\\ArcGIS\\\\Projects\\\\ArcII Lab 2\\\\PostgreSQL-35-lab2(postgres).sde\\\\lab2.postgres.mn_stations_20240314\\nFailed to execute (CopyFeatures).\\n\",\"Succeeded at Thursday, March 14, 2024 10:24:14 PM (Elapsed Time: 44.85 seconds)\"]' data-show='true'><div id = 'default' /></div></div>"
      ],
      "text/plain": [
       "<Result 'C:\\\\Users\\\\15612\\\\Documents\\\\ArcGIS\\\\Projects\\\\ArcII Lab 2\\\\PostgreSQL-35-lab2(postgres).sde'>"
      ]
     },
     "execution_count": 4,
     "metadata": {},
     "output_type": "execute_result"
    }
   ],
   "source": [
    "# Export vector data to Postgres\n",
    "arcpy.conversion.FeatureClassToGeodatabase(\n",
    "    f'{os.path.join(gdb_path, \"Minnesota\")};{os.path.join(gdb_path, \"Cities\")};{os.path.join(gdb_path, \"Land_Cover_polygons\")};{os.path.join(gdb_path, \"MN_DEM_pts\")};{os.path.join(gdb_path, \"BMSB_sightings_sj\")};{os.path.join(gdb_path, \"mn_stations_\" + today_no_dash)}',\n",
    "    sde_path\n",
    ")"
   ]
  }
 ],
 "metadata": {
  "kernelspec": {
   "display_name": "ArcGISPro",
   "language": "Python",
   "name": "python3"
  },
  "language_info": {
   "file_extension": ".py",
   "name": "python",
   "version": "3"
  }
 },
 "nbformat": 4,
 "nbformat_minor": 2
}
