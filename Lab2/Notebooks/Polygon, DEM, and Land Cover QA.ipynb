{
 "cells": [
  {
   "cell_type": "markdown",
   "id": "96e9eb6f",
   "metadata": {},
   "source": [
    "# Quality assurance and control of raster data\n",
    "\n",
    "This notebook provides QA/QC analyses on the Minnesota digital elevation model and land cover rasters used for the final project.\n",
    "\n",
    "This includes:\n",
    "- Data cleaning\n",
    "- Data range checks (spatial and non-spatial)\n",
    "- Recommendations for data correction\n",
    "\n",
    "All raster data is reprojected (if needed) to the WGS 84 coordinate system, as this is the coordinate system used within ArcGIS Online, where the final brown marmorated stinkbug locations map will be located."
   ]
  },
  {
   "cell_type": "code",
   "execution_count": 14,
   "id": "3f404f03",
   "metadata": {},
   "outputs": [],
   "source": [
    "# Import all required libraries\n",
    "import requests\n",
    "import zipfile\n",
    "import io\n",
    "import pandas as pd\n",
    "import arcpy\n",
    "import numpy\n",
    "import json\n",
    "import os\n",
    "\n",
    "directory = 'C:\\\\Users\\\\15612\\Documents\\\\Arc II\\\\Lab 2'"
   ]
  },
  {
   "cell_type": "code",
   "execution_count": 15,
   "id": "d6fc07ce",
   "metadata": {},
   "outputs": [],
   "source": [
    "# Establish variables for project and map\n",
    "project = arcpy.mp.ArcGISProject(\"CURRENT\")\n",
    "m = project.listMaps(\"Map\")[0]\n",
    "spatial_ref = arcpy.SpatialReference(4326)"
   ]
  },
  {
   "cell_type": "code",
   "execution_count": 16,
   "id": "d41b274f",
   "metadata": {},
   "outputs": [],
   "source": [
    "# Define a function to pull data from the Minnesota Geospatial Commons\n",
    "def mn_geo_pull_and_unzip(url, directory, GDB_or_SHP):\n",
    "\n",
    "    # Get GeoJSON from MN Geospatial Commons\n",
    "    api = requests.get(url)\n",
    "    json = api.json()\n",
    "    \n",
    "    # Use second list in the 'resources' key if data is in file geodatabase format\n",
    "    if GDB_or_SHP == 'GDB':\n",
    "        zip_link = requests.get(json['result']['resources'][1]['url'])\n",
    "    \n",
    "    # Use first list in the 'resources' key if data is in shapefile format\n",
    "    if GDB_or_SHP == 'SHP':\n",
    "        zip_link = requests.get(json['result']['resources'][2]['url'])\n",
    "    \n",
    "    # Get zipfile and extract\n",
    "    z_file = zipfile.ZipFile(io.BytesIO(zip_link.content))\n",
    "    z_file.extractall(directory)"
   ]
  },
  {
   "cell_type": "code",
   "execution_count": 17,
   "id": "54e8ae4f",
   "metadata": {},
   "outputs": [
    {
     "data": {
      "text/plain": [
       "<arcpy._mp.Layer object at 0x00000179A9469790>"
      ]
     },
     "execution_count": 17,
     "metadata": {},
     "output_type": "execute_result"
    }
   ],
   "source": [
    "# Run the created function using MN Geospatial Commons' CKAN API\n",
    "mn_geo_pull_and_unzip('https://gisdata.mn.gov/api/3/action/package_show?id=bdry-state',directory + \"\\\\Minn_State_Boundary\",\"SHP\")\n",
    "mn_geo_pull_and_unzip('https://gisdata.mn.gov/api/3/action/package_show?id=bdry-mn-city-township-unorg',directory + '\\\\MN_City_Boundaries',\"SHP\")\n",
    "\n",
    "# Add the data from the extracted files\n",
    "m.addDataFromPath(directory + '\\\\Minn_State_Boundary\\\\Boundaries_of_Minnesota.shp')\n",
    "m.addDataFromPath(directory + '\\\\MN_City_Boundaries\\\\city_township_unorg.shp')"
   ]
  },
  {
   "cell_type": "code",
   "execution_count": 18,
   "id": "b20d8c39",
   "metadata": {},
   "outputs": [],
   "source": [
    "# Define a quick function which reprojects vector data\n",
    "def reproject(in_data,out_data):\n",
    "\n",
    "    # Use 'Project' tool to reproject vector data\n",
    "    arcpy.management.Project(\n",
    "        in_dataset = in_data,\n",
    "        out_dataset = out_data,\n",
    "        out_coor_system = spatial_ref\n",
    "    )\n",
    "    \n",
    "    # Delete old feature with incorrect projection\n",
    "    arcpy.management.Delete(\n",
    "            in_data = in_data\n",
    "        )"
   ]
  },
  {
   "cell_type": "code",
   "execution_count": 19,
   "id": "fe90dbd2",
   "metadata": {},
   "outputs": [],
   "source": [
    "# Run the tool on acquired data from the MN Geospatial Commons\n",
    "reproject('Boundaries_of_Minnesota','Minnesota')\n",
    "reproject('city_township_unorg','Cities')"
   ]
  },
  {
   "cell_type": "code",
   "execution_count": 22,
   "id": "b59f677c",
   "metadata": {},
   "outputs": [],
   "source": [
    "# Pull and unzip DEM from MN Geospatial Commons\n",
    "mn_geo_pull_and_unzip('https://gisdata.mn.gov/api/3/action/package_show?id=elev-30m-digital-elevation-model',directory + '\\\\MN_DEM',\"GDB\")"
   ]
  },
  {
   "cell_type": "code",
   "execution_count": 23,
   "id": "a800ade4",
   "metadata": {},
   "outputs": [
    {
     "data": {
      "text/plain": [
       "<arcpy._mp.Layer object at 0x00000179A9528730>"
      ]
     },
     "execution_count": 23,
     "metadata": {},
     "output_type": "execute_result"
    }
   ],
   "source": [
    "# Add DEM to map\n",
    "m.addDataFromPath(directory + '\\\\MN_DEM\\\\elev_30m_digital_elevation_model.gdb\\\\digital_elevation_model_30m')"
   ]
  },
  {
   "cell_type": "markdown",
   "id": "17cd5a83",
   "metadata": {},
   "source": [
    "## Quality assurance of rasters\n",
    "\n",
    "The code below develops a function which determines potentially incorrect or inaccurate information regarding the digital elevation model.\n",
    "\n",
    "The two functions created below function:\n",
    "- If the spatial resolution matches or is less than the preferred maximum spatial resolution\n",
    "- If the DEM coordinate system does not match the map's coordinate system\n",
    "    - If not, the raster is reprojected to match the map's coordinate system\n",
    "- Analyze if there are any cells with no data\n",
    "- Analyze if the bounding box of the raster is within or matches the bounding box of the state polygon\n",
    "- Analyze if the lowest and highest cell values exceed the lowest and highest elevations of Minnesota respectively (if the raster is a DEM)\n",
    "\n",
    "If the coordinate system of the raster does not match the map's coordinate system, the cell directly below performs a reprojection to match the coordinate systems. Otherwise, the functions simply print out information about the raster, labeling potential risks within the data. Any potential issues are labeled with \"Warning:\" at the beginning. \n",
    "\n",
    "### Function help\n",
    "\n",
    "- in_raster - Raster dataset the operations will be performed on.\n",
    "- out_raster - Raster dataset which will be output once the operations are finished.\n",
    "- preferred_max_cellsize - The users preferred maximum spatial resolution in meters for the \"in_raster\".\n",
    "- mn_fc - The polygon feature class of the state of Minnesota used within the project.\n",
    "- raster_type (optional) - Type \"DEM\" for digital elevation model to check for correct elevations.\n",
    "- elevation_units (optional) - Type \"FEET\" if the DEM uses feet for elevation units and \"METERS\" if the DEM uses meter for elevation units."
   ]
  },
  {
   "cell_type": "code",
   "execution_count": 24,
   "id": "4bdf34ab",
   "metadata": {},
   "outputs": [],
   "source": [
    "# Define a function which reprojects and checks for correct cellsize\n",
    "def rast_sr_reproject(in_raster, out_raster, preferred_max_cellsize):\n",
    "    \n",
    "    # Get correct x and y cellsizes in meters - MN Geospatial Commons uses a UTM coordinate system, so cellsize is in meters\n",
    "    cellsize_x = float(arcpy.management.GetRasterProperties(\n",
    "        in_raster = in_raster,\n",
    "        property_type = 'CELLSIZEX'\n",
    "    ).getOutput(0))\n",
    "    \n",
    "    cellsize_y = float(arcpy.management.GetRasterProperties(\n",
    "        in_raster = in_raster,\n",
    "        property_type = 'CELLSIZEY'\n",
    "    ).getOutput(0))\n",
    "    \n",
    "    # Print a warning if the maximum spatial resolution exceeds the preferred spatial resolution\n",
    "    if cellsize_x >= cellsize_y:\n",
    "        if preferred_max_cellsize > cellsize_x:\n",
    "            print('Warning: Spatial resolution of raster exceeds your preferred spatial resolution. Raster may not be accurate enough for your analysis.')\n",
    "        else:\n",
    "            print('Spatial resolution of raster is less than or equal to your preferred spatial resolution.')\n",
    "            \n",
    "    if cellsize_y > cellsize_x:\n",
    "        if preferred_max_cellsize > cellsize_y:\n",
    "            print('Warning: Spatial resolution of raster exceeds your preferred spatial resolution. Raster may not be accurate enough for your analysis.')\n",
    "        else:\n",
    "            print('Spatial resolution of raster is less than or equal to your preferred spatial resolution.')\n",
    "    \n",
    "    # Set variables for the factory code of the spatial reference for both the map and raster\n",
    "    map_epsg = spatial_ref.factoryCode\n",
    "    rast_epsg = arcpy.Describe(in_raster).spatialReference.factoryCode\n",
    "    \n",
    "    # If coordinate systems do not match, reproject raster and delete the old one\n",
    "    if map_epsg != rast_epsg:\n",
    "        print('Coordinate system of raster does not match coordinate system of map. Reprojecting...')\n",
    "        \n",
    "        arcpy.management.ProjectRaster(\n",
    "            in_raster = in_raster,\n",
    "            out_raster = out_raster,\n",
    "            out_coor_system = spatial_ref\n",
    "        )\n",
    "        \n",
    "        arcpy.management.Delete(\n",
    "            in_data = in_raster\n",
    "        )\n",
    "        \n",
    "        print('Done')\n",
    "        \n",
    "    else:\n",
    "        print('Coordinate system of raster matches coordinate system of map.')"
   ]
  },
  {
   "cell_type": "code",
   "execution_count": 25,
   "id": "2d73d704",
   "metadata": {},
   "outputs": [
    {
     "name": "stdout",
     "output_type": "stream",
     "text": [
      "Spatial resolution of raster is less than or equal to your preferred spatial resolution.\n",
      "Coordinate system of raster does not match coordinate system of map. Reprojecting...\n",
      "Done\n"
     ]
    }
   ],
   "source": [
    "# Run the function with the DEM\n",
    "rast_sr_reproject('digital_elevation_model_30m','MN_DEM_30',30)"
   ]
  },
  {
   "cell_type": "code",
   "execution_count": 26,
   "id": "b4d2de1c",
   "metadata": {},
   "outputs": [],
   "source": [
    "# Define another function for analyzing any issues with the data itself\n",
    "def raster_check(in_raster, mn_fc, raster_type=None, elevation_units=None):\n",
    "    \n",
    "    # If the raster is a DEM, check if cells exceed the minimum and/or maximum elevations of Minnesota\n",
    "    if raster_type == 'DEM':\n",
    "    \n",
    "        highest_elev = float(arcpy.management.GetRasterProperties(\n",
    "            in_raster = in_raster,\n",
    "            property_type = 'MAXIMUM'\n",
    "        ).getOutput(0))\n",
    "\n",
    "        lowest_elev = float(arcpy.management.GetRasterProperties(\n",
    "            in_raster = in_raster,\n",
    "            property_type = 'MINIMUM'\n",
    "        ).getOutput(0))\n",
    "\n",
    "        if elevation_units == 'FEET':\n",
    "\n",
    "            if highest_elev > 2301:\n",
    "                print('Warning: One or more DEM cell values exceed the maximum elevation of state.')\n",
    "            if lowest_elev < 602:\n",
    "                print('Warning: One or more DEM cell values are lower than the minimum elevation of state.')\n",
    "            else:\n",
    "                print(\"Elevation values are within state's lowest and highest point.\")\n",
    "\n",
    "        if elevation_units == 'METERS':\n",
    "\n",
    "            if highest_elev > 701:\n",
    "                print('Warning: One or more DEM cell values exceed the maximum elevation of state.')\n",
    "            if lowest_elev < 183.5:\n",
    "                print('Warning: One or more DEM cell values are lower than the minimum elevation of state.')\n",
    "            else:\n",
    "                print(\"Elevation values are within state's lowest and highest point.\")\n",
    "    \n",
    "    else:\n",
    "        print('Raster is not a DEM, no elevation check needed.')\n",
    "    \n",
    "    # Check if there are any cells with null values and print a warning if there are\n",
    "    any_no_data = arcpy.management.GetRasterProperties(\n",
    "        in_raster = in_raster,\n",
    "        property_type = 'ANYNODATA'\n",
    "    )\n",
    "    \n",
    "    if any_no_data == '1':\n",
    "        print('Warning: DEM contains null values. It is recommended to perform a manual check on the raster.')\n",
    "    else:\n",
    "        print('No null values found.')\n",
    "    \n",
    "    # Create variables for the bounding box of the state feature class\n",
    "    state_fc_desc = arcpy.Describe(mn_fc)\n",
    "    fc_xmin = state_fc_desc.extent.XMin\n",
    "    fc_xmax = state_fc_desc.extent.XMax\n",
    "    fc_ymin = state_fc_desc.extent.YMin\n",
    "    fc_ymax = state_fc_desc.extent.YMax\n",
    "    \n",
    "    # Create variables for the bounding box of the input raster\n",
    "    rast_xmin = float(arcpy.management.GetRasterProperties(\n",
    "        in_raster = in_raster,\n",
    "        property_type = 'LEFT'\n",
    "    ).getOutput(0))\n",
    "    \n",
    "    rast_xmax = float(arcpy.management.GetRasterProperties(\n",
    "        in_raster = in_raster,\n",
    "        property_type = 'RIGHT'\n",
    "    ).getOutput(0))\n",
    "    \n",
    "    rast_ymin = float(arcpy.management.GetRasterProperties(\n",
    "        in_raster = in_raster,\n",
    "        property_type = 'BOTTOM'\n",
    "    ).getOutput(0))\n",
    "    \n",
    "    rast_ymax = float(arcpy.management.GetRasterProperties(\n",
    "        in_raster = in_raster,\n",
    "        property_type = 'TOP'\n",
    "    ).getOutput(0))\n",
    "    \n",
    "    # If the raster bounding box is larger than the state bounding box, print a warning\n",
    "    if rast_xmin < fc_xmin or rast_ymin < fc_ymin or rast_xmax > fc_xmax or rast_ymax > fc_ymax:\n",
    "        print('Warning: Raster bounding box exceeds state bounding box.')\n",
    "    else:\n",
    "        print('Raster is within state bounding box.')"
   ]
  },
  {
   "cell_type": "code",
   "execution_count": 27,
   "id": "efacb397",
   "metadata": {},
   "outputs": [
    {
     "name": "stdout",
     "output_type": "stream",
     "text": [
      "Warning: One or more DEM cell values are lower than the minimum elevation of state.\n",
      "No null values found.\n",
      "Warning: Raster bounding box exceeds state bounding box.\n"
     ]
    }
   ],
   "source": [
    "# Run the function described above\n",
    "raster_check('MN_DEM_30', 'Minnesota', 'DEM', 'FEET')"
   ]
  },
  {
   "cell_type": "markdown",
   "id": "9e5d888f",
   "metadata": {},
   "source": [
    "## Quality assurance check of DEM\n",
    "\n",
    "- DEM has a spatial resolution which is less than or equal to the preferred spatial resolution of the user.\n",
    "- The coordinate system was not WGS 84, so the DEM was reprojected.\n",
    "- There are some cell values within the DEM which are less than the lowest elevation in the state of Minnesota. Cell values are multiples of 5 so this is OK.\n",
    "- No null values in any cell in the DEM.\n",
    "- The raster bounding box exceeds the bounding box of the state of Minnesota. This is OK."
   ]
  },
  {
   "cell_type": "code",
   "execution_count": 28,
   "id": "94064b1f",
   "metadata": {},
   "outputs": [],
   "source": [
    "# Pull and unzip land cover data from the MN Geospatial Commons\n",
    "mn_geo_pull_and_unzip('https://gisdata.mn.gov/api/3/action/package_show?id=biota-landcover-nlcd-mn-2006',directory + \"\\\\Land_Cover\",\"GDB\")"
   ]
  },
  {
   "cell_type": "code",
   "execution_count": 29,
   "id": "c4e3571a",
   "metadata": {},
   "outputs": [
    {
     "data": {
      "text/plain": [
       "<arcpy._mp.Layer object at 0x00000179A93189D0>"
      ]
     },
     "execution_count": 29,
     "metadata": {},
     "output_type": "execute_result"
    }
   ],
   "source": [
    "# Add land cover raster\n",
    "m.addDataFromPath(directory + '\\\\Land_Cover\\\\biota_landcover_nlcd_mn_2006.gdb\\\\nlcd_mn_2006_land_cover')"
   ]
  },
  {
   "cell_type": "code",
   "execution_count": 30,
   "id": "2684675f",
   "metadata": {},
   "outputs": [
    {
     "name": "stdout",
     "output_type": "stream",
     "text": [
      "Spatial resolution of raster is less than or equal to your preferred spatial resolution.\n",
      "Coordinate system of raster does not match coordinate system of map. Reprojecting...\n",
      "Done\n"
     ]
    }
   ],
   "source": [
    "# Run the reproject and spatial resolution check function\n",
    "rast_sr_reproject('nlcd_mn_2006_land_cover', 'Land_Cover_reproject', 30)"
   ]
  },
  {
   "cell_type": "code",
   "execution_count": 31,
   "id": "0be1b4c8",
   "metadata": {},
   "outputs": [
    {
     "name": "stdout",
     "output_type": "stream",
     "text": [
      "Raster is not a DEM, no elevation check needed.\n",
      "No null values found.\n",
      "Warning: Raster bounding box exceeds state bounding box.\n"
     ]
    }
   ],
   "source": [
    "# Run the raster data check function\n",
    "raster_check('Land_Cover_reproject','Minnesota')"
   ]
  },
  {
   "cell_type": "markdown",
   "id": "ea0a4320",
   "metadata": {},
   "source": [
    "## Quality assurance check of Land Cover raster\n",
    "\n",
    "- Land Cover raster has a spatial resolution which is less than or equal to the preferred spatial resolution of the user.\n",
    "- The coordinate system was not WGS 84, so the raster was reprojected.\n",
    "- Land Cover raster does not use elevation data, so an elevation check is not needed.\n",
    "- No null values in any cell in the DEM.\n",
    "- The raster bounding box exceeds the bounding box of the state of Minnesota. This is ok."
   ]
  },
  {
   "cell_type": "code",
   "execution_count": 32,
   "id": "b67f7b8a",
   "metadata": {},
   "outputs": [
    {
     "data": {
      "text/html": [
       "<div class='gpresult'><h2>Messages</h2><div id='messages' data-messages='[\"Start Time: Thursday, March 14, 2024 1:24:10 PM\",\"Succeeded at Thursday, March 14, 2024 1:24:12 PM (Elapsed Time: 2.01 seconds)\"]' data-show='true'><div id = 'default' /></div></div>"
      ],
      "text/plain": [
       "<Result 'C:\\\\Users\\\\15612\\\\Documents\\\\ArcGIS\\\\Projects\\\\ArcII Lab 2\\\\ArcII Lab 2.gdb\\\\Land_Cover_polygons'>"
      ]
     },
     "execution_count": 32,
     "metadata": {},
     "output_type": "execute_result"
    }
   ],
   "source": [
    "# Saving a raster to an enterprise GDB can be diffcult, so the rasters will be converted to vector data\n",
    "\n",
    "# Resample rasters for raster to point processing (9 kilometers is roughly 0.0278 vertical degrees)\n",
    "arcpy.management.Resample(\n",
    "    in_raster = 'MN_DEM_30',\n",
    "    out_raster = 'res_MN_DEM',\n",
    "    cell_size = 0.0278,\n",
    "    resampling_type = 'BILINEAR'\n",
    ")\n",
    "\n",
    "arcpy.management.Resample(\n",
    "    in_raster = 'Land_Cover_reproject',\n",
    "    out_raster = 'res_Land_Cover',\n",
    "    cell_size = 0.0278,\n",
    "    resampling_type = 'BILINEAR'\n",
    ")\n",
    "\n",
    "# Convert raster to point for DEM data\n",
    "arcpy.conversion.RasterToPoint(\n",
    "    in_raster = 'res_MN_DEM',\n",
    "    out_point_features = 'MN_DEM_pts',\n",
    "    raster_field = 'Value'\n",
    ")\n",
    "\n",
    "# Convert raster to polygon for land cover data\n",
    "arcpy.conversion.RasterToPolygon(\n",
    "    in_raster = 'res_Land_Cover',\n",
    "    out_polygon_features = 'Land_Cover_polygons',\n",
    "    raster_field = 'Value'\n",
    ")"
   ]
  },
  {
   "cell_type": "markdown",
   "id": "c151677d",
   "metadata": {},
   "source": [
    "### Once this notebook has been run, move to the \"Weather Station and BMSB QA\" notebook"
   ]
  }
 ],
 "metadata": {
  "kernelspec": {
   "display_name": "ArcGISPro",
   "language": "Python",
   "name": "python3"
  },
  "language_info": {
   "file_extension": ".py",
   "name": "python",
   "version": "3"
  }
 },
 "nbformat": 4,
 "nbformat_minor": 5
}
